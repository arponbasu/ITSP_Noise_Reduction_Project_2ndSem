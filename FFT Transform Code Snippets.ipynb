{
 "cells": [
  {
   "cell_type": "code",
   "execution_count": null,
   "id": "b945358b",
   "metadata": {},
   "outputs": [],
   "source": [
    "def DFT_slow(x):\n",
    "        x = np.asarray(x, dtype=float)\n",
    "        N = len(x)\n",
    "        n = np.arange(N)\n",
    "# n is current sample we're consider - 1 to N-1. \n",
    "        k = n.reshape((N, 1))\n",
    "# 5000 LENGHT X 1 width - current freq we're looking at 1 - N-1. \n",
    "        M = np.exp(-2j * np.pi * k * n / N) # multiply\n",
    "        return np.dot(M, x)\n",
    "# O(nlogn) runtme\n",
    "# Outputs the spectrum of frequencies - dissecting what vmakes up various parts of hte sound waves\n",
    "def FFT(x):\n",
    "        N = len(x)\n",
    "        print(N)\n",
    "        if N % 2 > 0: # must be a power of two. \n",
    "                raise ValueError(\"hey\")\n",
    "        elif (N <= 32):\n",
    "                return DFT_slow(x)\n",
    "        else:\n",
    "                odd = x[1::2]\n",
    "                even = x[::2]\n",
    "                transformed_odd = FFT(odd)\n",
    "                transformed_even = FFT(even)\n",
    "                n = np.arange(N)\n",
    "                factor = np.exp(-2j * np.pi * np.arange(N) / N)\n",
    "                return np.concatenate([transformed_even + factor[:int(N / 2)] * transformed_odd,\n",
    "                               transformed_even + factor[int(N / 2):] * transformed_odd])\n",
    "\n",
    "def pad_if_needed(x):\n",
    "        print(x)\n",
    "            check = np.log2(len(x))\n",
    "        print(check.is_integer())\n",
    "        while check.is_integer() is False:\n",
    "                x = np.append(x, 0)\n",
    "                check = np.log2(len(x))\n",
    "\n",
    "                print(len(x))\n",
    "        return x"
   ]
  },
  {
   "cell_type": "code",
   "execution_count": null,
   "id": "6f6983f0",
   "metadata": {},
   "outputs": [],
   "source": [
    "\"\"\"This is a piece of code that we thought might be useful to us in the near future.\n",
    "This was reproduced exactly from the site http://fab.cba.mit.edu/classes/864.17/people/Yada.Pruksachatkun/Untitled.html\"\"\""
   ]
  }
 ],
 "metadata": {
  "kernelspec": {
   "display_name": "Python 3",
   "language": "python",
   "name": "python3"
  },
  "language_info": {
   "codemirror_mode": {
    "name": "ipython",
    "version": 3
   },
   "file_extension": ".py",
   "mimetype": "text/x-python",
   "name": "python",
   "nbconvert_exporter": "python",
   "pygments_lexer": "ipython3",
   "version": "3.8.8"
  }
 },
 "nbformat": 4,
 "nbformat_minor": 5
}
